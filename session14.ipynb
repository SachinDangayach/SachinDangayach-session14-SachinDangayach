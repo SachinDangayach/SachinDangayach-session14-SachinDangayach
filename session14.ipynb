{
 "cells": [
  {
   "cell_type": "markdown",
   "metadata": {},
   "source": [
    "## Submission for Assigment 14 ( Iterator and Iterable )\n"
   ]
  },
  {
   "cell_type": "code",
   "execution_count": 1,
   "metadata": {},
   "outputs": [],
   "source": [
    "# import the modules \n",
    "import regular_poly as rp\n",
    "import regular_poly_seq as ps"
   ]
  },
  {
   "cell_type": "markdown",
   "metadata": {},
   "source": [
    "## Part A\n",
    "Refactor the `Polygon` class so that all the calculated properties are lazy properties, i.e. they should still be calculated properties, but they should not have to get recalculated more than once (since we made our `Polygon` class \"immutable\")."
   ]
  },
  {
   "cell_type": "markdown",
   "metadata": {},
   "source": [
    "### Create Polygon Class object with -\n",
    "#### 1. number of edges/vertices\n",
    "#### 2. circumradius"
   ]
  },
  {
   "cell_type": "code",
   "execution_count": 2,
   "metadata": {},
   "outputs": [],
   "source": [
    "square = rp.RegularPoly(4,4)"
   ]
  },
  {
   "cell_type": "markdown",
   "metadata": {},
   "source": [
    "#### Test \\_\\_repr__ function"
   ]
  },
  {
   "cell_type": "code",
   "execution_count": 3,
   "metadata": {},
   "outputs": [
    {
     "data": {
      "text/plain": [
       "'RegularPoly(4, 4)'"
      ]
     },
     "execution_count": 3,
     "metadata": {},
     "output_type": "execute_result"
    }
   ],
   "source": [
    "# Test __repr__ function\n",
    "square.__repr__()"
   ]
  },
  {
   "cell_type": "markdown",
   "metadata": {},
   "source": [
    "#### Test \\_\\_str__ function"
   ]
  },
  {
   "cell_type": "code",
   "execution_count": 4,
   "metadata": {},
   "outputs": [
    {
     "name": "stdout",
     "output_type": "stream",
     "text": [
      "Regular Polygon:-\n",
      " number of vertices = 4,\n",
      " radius = 4,                  \n",
      " interior angle = 114.59155902616465, \n",
      " edge length = 5.656854249492381,                  \n",
      " apothem = 2.8284271247461903, \n",
      " area = 32.00000000000001, \n",
      " perimeter = 22.627416997969522\n"
     ]
    }
   ],
   "source": [
    "# Test __str__ function\n",
    "print(square)"
   ]
  },
  {
   "cell_type": "code",
   "execution_count": 5,
   "metadata": {},
   "outputs": [],
   "source": [
    "# Create triangle\n",
    "triangle = rp.RegularPoly(3,3)"
   ]
  },
  {
   "cell_type": "code",
   "execution_count": 6,
   "metadata": {},
   "outputs": [
    {
     "name": "stdout",
     "output_type": "stream",
     "text": [
      "Regular Polygon:-\n",
      " number of vertices = 3,\n",
      " radius = 3,                  \n",
      " interior angle = 57.29577951308232, \n",
      " edge length = 5.196152422706632,                  \n",
      " apothem = 1.5000000000000004, \n",
      " area = 11.691342951089926, \n",
      " perimeter = 15.588457268119896\n"
     ]
    }
   ],
   "source": [
    "print(triangle)"
   ]
  },
  {
   "cell_type": "markdown",
   "metadata": {},
   "source": [
    "#### Test equality (==) based on # vertices and circumradius (\\_\\_eq__)"
   ]
  },
  {
   "cell_type": "code",
   "execution_count": 7,
   "metadata": {},
   "outputs": [
    {
     "data": {
      "text/plain": [
       "False"
      ]
     },
     "execution_count": 7,
     "metadata": {},
     "output_type": "execute_result"
    }
   ],
   "source": [
    "# equality (==) based on # vertices and circumradius (__eq__)\n",
    "square == triangle"
   ]
  },
  {
   "cell_type": "code",
   "execution_count": 8,
   "metadata": {},
   "outputs": [],
   "source": [
    "# Poly with 4 vertices and Circum Radius 4\n",
    "sqr2 = rp.RegularPoly(4,4)"
   ]
  },
  {
   "cell_type": "code",
   "execution_count": 9,
   "metadata": {},
   "outputs": [
    {
     "data": {
      "text/plain": [
       "True"
      ]
     },
     "execution_count": 9,
     "metadata": {},
     "output_type": "execute_result"
    }
   ],
   "source": [
    "square == sqr2"
   ]
  },
  {
   "cell_type": "markdown",
   "metadata": {},
   "source": [
    "#### Test > based on number of vertices only (\\_\\_gt__)"
   ]
  },
  {
   "cell_type": "code",
   "execution_count": 10,
   "metadata": {},
   "outputs": [
    {
     "data": {
      "text/plain": [
       "False"
      ]
     },
     "execution_count": 10,
     "metadata": {},
     "output_type": "execute_result"
    }
   ],
   "source": [
    "# > based on number of vertices only (__gt__)\n",
    "triangle > square"
   ]
  },
  {
   "cell_type": "code",
   "execution_count": 11,
   "metadata": {},
   "outputs": [
    {
     "data": {
      "text/plain": [
       "True"
      ]
     },
     "execution_count": 11,
     "metadata": {},
     "output_type": "execute_result"
    }
   ],
   "source": [
    "sqr2 > triangle"
   ]
  },
  {
   "cell_type": "markdown",
   "metadata": {},
   "source": [
    "## Part B\n",
    "Refactor the Polygons (sequence) type, into an iterable. Make sure also that the elements in the iterator are computed lazily - i.e. you can no longer use a list as an underlying storage mechanism for your polygons.\n",
    "Implement both an iterable, and an iterator."
   ]
  },
  {
   "cell_type": "markdown",
   "metadata": {},
   "source": [
    "### Create the object for RegularPolySeq class ( Number of verticies = 25 and radius = 3)"
   ]
  },
  {
   "cell_type": "code",
   "execution_count": 12,
   "metadata": {},
   "outputs": [],
   "source": [
    "poly_25 = ps.RegularPolySeq(25,3)"
   ]
  },
  {
   "cell_type": "code",
   "execution_count": 13,
   "metadata": {},
   "outputs": [
    {
     "name": "stdout",
     "output_type": "stream",
     "text": [
      "hi from next25\n"
     ]
    },
    {
     "ename": "NameError",
     "evalue": "name 'rp' is not defined",
     "output_type": "error",
     "traceback": [
      "\u001b[1;31m---------------------------------------------------------------------------\u001b[0m",
      "\u001b[1;31mNameError\u001b[0m                                 Traceback (most recent call last)",
      "\u001b[1;32m<ipython-input-13-15cda9d5b023>\u001b[0m in \u001b[0;36m<module>\u001b[1;34m\u001b[0m\n\u001b[1;32m----> 1\u001b[1;33m \u001b[0mlist\u001b[0m\u001b[1;33m(\u001b[0m\u001b[0mpoly_25\u001b[0m\u001b[1;33m)\u001b[0m \u001b[1;31m# Polygon object and area to perimeter ratio\u001b[0m\u001b[1;33m\u001b[0m\u001b[1;33m\u001b[0m\u001b[0m\n\u001b[0m",
      "\u001b[1;32m~\\Desktop\\EPAI_S14\\regular_poly_seq.py\u001b[0m in \u001b[0;36m__next__\u001b[1;34m(self)\u001b[0m\n\u001b[0;32m     89\u001b[0m                 \u001b[1;32mraise\u001b[0m \u001b[0mStopIteration\u001b[0m\u001b[1;33m\u001b[0m\u001b[1;33m\u001b[0m\u001b[0m\n\u001b[0;32m     90\u001b[0m             \u001b[1;32melse\u001b[0m\u001b[1;33m:\u001b[0m\u001b[1;33m\u001b[0m\u001b[1;33m\u001b[0m\u001b[0m\n\u001b[1;32m---> 91\u001b[1;33m                 \u001b[0mcurrent_poly\u001b[0m \u001b[1;33m=\u001b[0m \u001b[0mrp\u001b[0m\u001b[1;33m.\u001b[0m\u001b[0mRegularPoly\u001b[0m\u001b[1;33m(\u001b[0m\u001b[0mself\u001b[0m\u001b[1;33m.\u001b[0m\u001b[0mcurrent_poly_count\u001b[0m\u001b[1;33m,\u001b[0m \u001b[0mself\u001b[0m\u001b[1;33m.\u001b[0m\u001b[0mradius\u001b[0m\u001b[1;33m)\u001b[0m\u001b[1;33m\u001b[0m\u001b[1;33m\u001b[0m\u001b[0m\n\u001b[0m\u001b[0;32m     92\u001b[0m                 \u001b[0mself\u001b[0m\u001b[1;33m.\u001b[0m\u001b[0mcurrent_poly_count\u001b[0m \u001b[1;33m-=\u001b[0m \u001b[1;36m1\u001b[0m\u001b[1;33m\u001b[0m\u001b[1;33m\u001b[0m\u001b[0m\n\u001b[0;32m     93\u001b[0m                 \u001b[1;32mreturn\u001b[0m \u001b[0mcurrent_poly\u001b[0m\u001b[1;33m\u001b[0m\u001b[1;33m\u001b[0m\u001b[0m\n",
      "\u001b[1;31mNameError\u001b[0m: name 'rp' is not defined"
     ]
    }
   ],
   "source": [
    "list(poly_25) # Polygon object and area to perimeter ratio"
   ]
  },
  {
   "cell_type": "markdown",
   "metadata": {},
   "source": [
    "### functions as a sequence type (\\_\\_getitem__)"
   ]
  },
  {
   "cell_type": "code",
   "execution_count": 14,
   "metadata": {},
   "outputs": [
    {
     "data": {
      "text/plain": [
       "(RegularPoly(4, 3), 1.0606601717798214)"
      ]
     },
     "execution_count": 14,
     "metadata": {},
     "output_type": "execute_result"
    }
   ],
   "source": [
    "poly_25.__getitem__(1)"
   ]
  },
  {
   "cell_type": "markdown",
   "metadata": {},
   "source": [
    "### supports the len() function (\\_\\_len__)"
   ]
  },
  {
   "cell_type": "code",
   "execution_count": 15,
   "metadata": {},
   "outputs": [
    {
     "data": {
      "text/plain": [
       "23"
      ]
     },
     "execution_count": 15,
     "metadata": {},
     "output_type": "execute_result"
    }
   ],
   "source": [
    "poly_25.__len__()"
   ]
  },
  {
   "cell_type": "markdown",
   "metadata": {},
   "source": [
    "### proper representation (\\_\\_repr__)"
   ]
  },
  {
   "cell_type": "code",
   "execution_count": 16,
   "metadata": {},
   "outputs": [
    {
     "data": {
      "text/plain": [
       "'RegularPolySeq(25, 3)'"
      ]
     },
     "execution_count": 16,
     "metadata": {},
     "output_type": "execute_result"
    }
   ],
   "source": [
    "poly_25.__repr__()"
   ]
  },
  {
   "cell_type": "markdown",
   "metadata": {},
   "source": [
    "### Proper string representation (\\_\\_str__)"
   ]
  },
  {
   "cell_type": "code",
   "execution_count": 17,
   "metadata": {},
   "outputs": [
    {
     "name": "stdout",
     "output_type": "stream",
     "text": [
      "Polygon sequence with seq_len = 23 and common cirum_radius = 3\n"
     ]
    }
   ],
   "source": [
    "print(poly_25)"
   ]
  },
  {
   "cell_type": "markdown",
   "metadata": {},
   "source": [
    "### max efficiency polygon: returns the Polygon with the highest area: perimeter ratio"
   ]
  },
  {
   "cell_type": "code",
   "execution_count": 18,
   "metadata": {},
   "outputs": [
    {
     "data": {
      "text/plain": [
       "RegularPoly(25, 3)"
      ]
     },
     "execution_count": 18,
     "metadata": {},
     "output_type": "execute_result"
    }
   ],
   "source": [
    "poly_25.max_efficiency_poly"
   ]
  },
  {
   "cell_type": "code",
   "execution_count": null,
   "metadata": {},
   "outputs": [],
   "source": []
  },
  {
   "cell_type": "code",
   "execution_count": null,
   "metadata": {},
   "outputs": [],
   "source": []
  },
  {
   "cell_type": "code",
   "execution_count": null,
   "metadata": {},
   "outputs": [],
   "source": []
  },
  {
   "cell_type": "code",
   "execution_count": 96,
   "metadata": {},
   "outputs": [],
   "source": [
    "\"\"\"Regular Polygon iterable class\"\"\"\n",
    "class RegularPolySeq:\n",
    "    \"\"\"Class to create a sequence of regular polygon\"\"\"\n",
    "\n",
    "    def __init__(self, vert_count, radius):\n",
    "        \"\"\"Initialize the RegulaPoly class attributes\"\"\"\n",
    "\n",
    "        self.vert_count = vert_count # Number of vertices of polygon\n",
    "        self.radius     = radius # Circumradius\n",
    "\n",
    "    @property\n",
    "    def vert_count(self):\n",
    "        \"\"\"Get count of vertices\"\"\"\n",
    "        return self._vert_count\n",
    "\n",
    "    @vert_count.setter\n",
    "    def vert_count(self, vert_count):\n",
    "        \"\"\"Set the number of vertices of polygon\"\"\"\n",
    "        if not isinstance(vert_count, int):\n",
    "            raise TypeError(f'Number of vertices should be of type integer')\n",
    "        if vert_count < 3:\n",
    "            raise ValueError(f'Number of vertices should be greater than or equal to 3')\n",
    "\n",
    "        self._vert_count = vert_count\n",
    "\n",
    "    @property\n",
    "    def radius(self):\n",
    "        \"\"\"Get circumradius\"\"\"\n",
    "        return self._radius\n",
    "\n",
    "    @radius.setter\n",
    "    def radius(self, radius):\n",
    "        \"\"\"Set the circumradius of polygon\"\"\"\n",
    "        if not isinstance(radius, int):\n",
    "            raise TypeError(f'Radius should be of type integer')\n",
    "        if radius < 0:\n",
    "            raise ValueError(f'Radius should be greater than 0')\n",
    "\n",
    "        self._radius = radius\n",
    "\n",
    "    def __getitem__(self, seq):\n",
    "        \"\"\"get next item in the sequence\"\"\"\n",
    "        if isinstance(seq, int):\n",
    "            seq = seq + 3\n",
    "            if seq - 3 < 0:\n",
    "                seq = self.vert_count + seq - 3\n",
    "            if seq  < 3 or seq > self.vert_count:\n",
    "                raise IndexError\n",
    "            else:\n",
    "                if seq >=3:\n",
    "                    return rp.RegularPoly(seq, self.radius)\n",
    "        else:\n",
    "            raise TypeError ('Please provide valid integer value')\n",
    "            \n",
    "    def __len__(self):\n",
    "        \"\"\"get length of sequence\"\"\"\n",
    "        return self.vert_count - 2\n",
    "\n",
    "    def __str__(self):\n",
    "        \"\"\"String represnetation\"\"\"\n",
    "        return f\"Polygon sequence with seq_len = {self.vert_count - 2} and common cirum_radius = {self.radius}\"\n",
    "\n",
    "    def __repr__(self):\n",
    "        \"\"\" Return string for RegularPolySeq\"\"\"\n",
    "        return (f'RegularPolySeq({self.vert_count}, {self.radius})')\n",
    "\n",
    "    def __iter__(self):\n",
    "        \"\"\"Get the iterable\"\"\"\n",
    "        return self.PolyIterator(vert_count = self.vert_count,\n",
    "                                 radius=self.radius)\n",
    "\n",
    "    \n",
    "    class PolyIterator:\n",
    "        \"\"\"Class for iterator\"\"\"\n",
    "        def __init__(self,vert_count, radius):\n",
    "            print(\"hi from init\")\n",
    "            self.vert_count = vert_count\n",
    "            self.radius = radius\n",
    "            self.current_poly_count = vert_count\n",
    "            self.max_effi_poly = None\n",
    "\n",
    "        def __iter__(self):\n",
    "            print(\"hi from iter\")\n",
    "            return self\n",
    "\n",
    "        def __next__(self):\n",
    "            print(f\"hi from next{self.current_poly_count}\")\n",
    "            if self.current_poly_count < 3:\n",
    "                raise StopIteration\n",
    "            else:\n",
    "                current_poly = rp.RegularPoly(self.current_poly_count, self.radius)\n",
    "                self.current_poly_count -= 1\n",
    "                return current_poly\n",
    "\n",
    "        def __str__(self):\n",
    "            \"\"\"String represnetation\"\"\"\n",
    "            return f\"Polygon sequence with seq_len = {self.vert_count - 2} and common cirum_radius = {self.radius}\"\n",
    "\n",
    "        def __repr__(self):\n",
    "            \"\"\" Return string for RegularPolySeq\"\"\"\n",
    "            return (f'RegularPolySeq({self.vert_count}, {self.radius})')\n",
    "\n",
    "            \n",
    "            \n",
    "    @property\n",
    "    def max_effi_poly(self):\n",
    "        \"\"\" find the max efficiency polygon \"\"\"\n",
    "        max_ratio = -100\n",
    "        for i in range(self.vert_count-2):\n",
    "            area_perimeter_ratio = self.__getitem__(i)\n",
    "            print(area_perimeter_ratio)\n",
    "            if area_perimeter_ratio > max_ratio:\n",
    "                max_ratio = area_perimeter_ratio\n",
    "                max_ratio_polygon = self.__getitem__(i)\n",
    "        return max_ratio_polygon\n",
    "\n"
   ]
  },
  {
   "cell_type": "code",
   "execution_count": 97,
   "metadata": {},
   "outputs": [],
   "source": [
    "test = RegularPolySeq(10,10)"
   ]
  },
  {
   "cell_type": "code",
   "execution_count": 98,
   "metadata": {},
   "outputs": [
    {
     "name": "stdout",
     "output_type": "stream",
     "text": [
      "hi from init\n"
     ]
    }
   ],
   "source": [
    "a = iter(test)"
   ]
  },
  {
   "cell_type": "code",
   "execution_count": 99,
   "metadata": {},
   "outputs": [
    {
     "name": "stdout",
     "output_type": "stream",
     "text": [
      "hi from next10\n"
     ]
    },
    {
     "data": {
      "text/plain": [
       "RegularPoly(10, 10)"
      ]
     },
     "execution_count": 99,
     "metadata": {},
     "output_type": "execute_result"
    }
   ],
   "source": [
    "next(a)"
   ]
  },
  {
   "cell_type": "code",
   "execution_count": 100,
   "metadata": {},
   "outputs": [
    {
     "data": {
      "text/plain": [
       "RegularPoly(5, 10)"
      ]
     },
     "execution_count": 100,
     "metadata": {},
     "output_type": "execute_result"
    }
   ],
   "source": [
    "test.__getitem__(2)"
   ]
  },
  {
   "cell_type": "code",
   "execution_count": 101,
   "metadata": {},
   "outputs": [
    {
     "name": "stdout",
     "output_type": "stream",
     "text": [
      "Regular Polygon:-\n",
      " number of vertices = 3,\n",
      " radius = 10,                  \n",
      " interior angle = 57.29577951308232, \n",
      " edge length = 17.32050807568877,                  \n",
      " apothem = 5.000000000000001, \n",
      " area = 129.9038105676658, \n",
      " perimeter = 51.96152422706631\n"
     ]
    },
    {
     "ename": "NotImplementedError",
     "evalue": "Incorrect data type",
     "output_type": "error",
     "traceback": [
      "\u001b[1;31m---------------------------------------------------------------------------\u001b[0m",
      "\u001b[1;31mNotImplementedError\u001b[0m                       Traceback (most recent call last)",
      "\u001b[1;32m<ipython-input-101-532a4cf0cf3f>\u001b[0m in \u001b[0;36m<module>\u001b[1;34m\u001b[0m\n\u001b[1;32m----> 1\u001b[1;33m \u001b[0mtest\u001b[0m\u001b[1;33m.\u001b[0m\u001b[0mmax_effi_poly\u001b[0m\u001b[1;33m\u001b[0m\u001b[1;33m\u001b[0m\u001b[0m\n\u001b[0m",
      "\u001b[1;32m<ipython-input-96-f9b2d963138a>\u001b[0m in \u001b[0;36mmax_effi_poly\u001b[1;34m(self)\u001b[0m\n\u001b[0;32m    110\u001b[0m             \u001b[0marea_perimeter_ratio\u001b[0m \u001b[1;33m=\u001b[0m \u001b[0mself\u001b[0m\u001b[1;33m.\u001b[0m\u001b[0m__getitem__\u001b[0m\u001b[1;33m(\u001b[0m\u001b[0mi\u001b[0m\u001b[1;33m)\u001b[0m\u001b[1;33m\u001b[0m\u001b[1;33m\u001b[0m\u001b[0m\n\u001b[0;32m    111\u001b[0m             \u001b[0mprint\u001b[0m\u001b[1;33m(\u001b[0m\u001b[0marea_perimeter_ratio\u001b[0m\u001b[1;33m)\u001b[0m\u001b[1;33m\u001b[0m\u001b[1;33m\u001b[0m\u001b[0m\n\u001b[1;32m--> 112\u001b[1;33m             \u001b[1;32mif\u001b[0m \u001b[0marea_perimeter_ratio\u001b[0m \u001b[1;33m>\u001b[0m \u001b[0mmax_ratio\u001b[0m\u001b[1;33m:\u001b[0m\u001b[1;33m\u001b[0m\u001b[1;33m\u001b[0m\u001b[0m\n\u001b[0m\u001b[0;32m    113\u001b[0m                 \u001b[0mmax_ratio\u001b[0m \u001b[1;33m=\u001b[0m \u001b[0marea_perimeter_ratio\u001b[0m\u001b[1;33m\u001b[0m\u001b[1;33m\u001b[0m\u001b[0m\n\u001b[0;32m    114\u001b[0m                 \u001b[0mmax_ratio_polygon\u001b[0m \u001b[1;33m=\u001b[0m \u001b[0mself\u001b[0m\u001b[1;33m.\u001b[0m\u001b[0m__getitem__\u001b[0m\u001b[1;33m(\u001b[0m\u001b[0mi\u001b[0m\u001b[1;33m)\u001b[0m\u001b[1;33m\u001b[0m\u001b[1;33m\u001b[0m\u001b[0m\n",
      "\u001b[1;32m~\\Desktop\\EPAI_S14\\regular_poly.py\u001b[0m in \u001b[0;36m__gt__\u001b[1;34m(self, other)\u001b[0m\n\u001b[0;32m    117\u001b[0m             \u001b[1;32mreturn\u001b[0m\u001b[1;33m(\u001b[0m\u001b[0mself\u001b[0m\u001b[1;33m.\u001b[0m\u001b[0mvert_count\u001b[0m \u001b[1;33m>\u001b[0m \u001b[0mother\u001b[0m\u001b[1;33m.\u001b[0m\u001b[0mvert_count\u001b[0m\u001b[1;33m)\u001b[0m\u001b[1;33m\u001b[0m\u001b[1;33m\u001b[0m\u001b[0m\n\u001b[0;32m    118\u001b[0m         \u001b[1;32melse\u001b[0m\u001b[1;33m:\u001b[0m\u001b[1;33m\u001b[0m\u001b[1;33m\u001b[0m\u001b[0m\n\u001b[1;32m--> 119\u001b[1;33m             \u001b[1;32mraise\u001b[0m \u001b[0mNotImplementedError\u001b[0m\u001b[1;33m(\u001b[0m\u001b[1;34m'Incorrect data type'\u001b[0m\u001b[1;33m)\u001b[0m\u001b[1;33m\u001b[0m\u001b[1;33m\u001b[0m\u001b[0m\n\u001b[0m",
      "\u001b[1;31mNotImplementedError\u001b[0m: Incorrect data type"
     ]
    }
   ],
   "source": [
    "test.max_effi_poly"
   ]
  },
  {
   "cell_type": "code",
   "execution_count": 61,
   "metadata": {},
   "outputs": [
    {
     "name": "stdout",
     "output_type": "stream",
     "text": [
      "hi from init\n",
      "hi from next10\n",
      "hi from next9\n",
      "hi from next8\n",
      "hi from next7\n",
      "hi from next6\n",
      "hi from next5\n",
      "hi from next4\n",
      "hi from next3\n",
      "hi from next2\n"
     ]
    }
   ],
   "source": [
    "x = [item for item in test]"
   ]
  },
  {
   "cell_type": "code",
   "execution_count": 63,
   "metadata": {},
   "outputs": [
    {
     "name": "stdout",
     "output_type": "stream",
     "text": [
      "hi from init\n",
      "hi from next10\n",
      "Regular Polygon:-\n",
      " number of vertices = 10,\n",
      " radius = 10,                  \n",
      " interior angle = 458.3662361046586, \n",
      " edge length = 6.180339887498948,                  \n",
      " apothem = 9.510565162951535, \n",
      " area = 293.8926261462365, \n",
      " perimeter = 61.80339887498948\n",
      "hi from next9\n",
      "Regular Polygon:-\n",
      " number of vertices = 9,\n",
      " radius = 10,                  \n",
      " interior angle = 401.07045659157626, \n",
      " edge length = 6.840402866513374,                  \n",
      " apothem = 9.396926207859085, \n",
      " area = 289.2544243589427, \n",
      " perimeter = 61.563625798620365\n",
      "hi from next8\n",
      "Regular Polygon:-\n",
      " number of vertices = 8,\n",
      " radius = 10,                  \n",
      " interior angle = 343.77467707849394, \n",
      " edge length = 7.653668647301796,                  \n",
      " apothem = 9.238795325112868, \n",
      " area = 282.842712474619, \n",
      " perimeter = 61.22934917841437\n",
      "hi from next7\n",
      "Regular Polygon:-\n",
      " number of vertices = 7,\n",
      " radius = 10,                  \n",
      " interior angle = 286.4788975654116, \n",
      " edge length = 8.677674782351163,                  \n",
      " apothem = 9.009688679024192, \n",
      " area = 273.6410188638105, \n",
      " perimeter = 60.74372347645814\n",
      "hi from next6\n",
      "Regular Polygon:-\n",
      " number of vertices = 6,\n",
      " radius = 10,                  \n",
      " interior angle = 229.1831180523293, \n",
      " edge length = 9.999999999999998,                  \n",
      " apothem = 8.660254037844387, \n",
      " area = 259.80762113533154, \n",
      " perimeter = 59.999999999999986\n",
      "hi from next5\n",
      "Regular Polygon:-\n",
      " number of vertices = 5,\n",
      " radius = 10,                  \n",
      " interior angle = 171.88733853924697, \n",
      " edge length = 11.755705045849464,                  \n",
      " apothem = 8.090169943749475, \n",
      " area = 237.76412907378844, \n",
      " perimeter = 58.77852522924732\n",
      "hi from next4\n",
      "Regular Polygon:-\n",
      " number of vertices = 4,\n",
      " radius = 10,                  \n",
      " interior angle = 114.59155902616465, \n",
      " edge length = 14.142135623730951,                  \n",
      " apothem = 7.0710678118654755, \n",
      " area = 200.00000000000003, \n",
      " perimeter = 56.568542494923804\n",
      "hi from next3\n",
      "Regular Polygon:-\n",
      " number of vertices = 3,\n",
      " radius = 10,                  \n",
      " interior angle = 57.29577951308232, \n",
      " edge length = 17.32050807568877,                  \n",
      " apothem = 5.000000000000001, \n",
      " area = 129.9038105676658, \n",
      " perimeter = 51.96152422706631\n",
      "hi from next2\n"
     ]
    },
    {
     "data": {
      "text/plain": [
       "[None, None, None, None, None, None, None, None]"
      ]
     },
     "execution_count": 63,
     "metadata": {},
     "output_type": "execute_result"
    }
   ],
   "source": [
    "[print(item) for item in test]"
   ]
  },
  {
   "cell_type": "code",
   "execution_count": null,
   "metadata": {},
   "outputs": [],
   "source": []
  }
 ],
 "metadata": {
  "kernelspec": {
   "display_name": "Python 3",
   "language": "python",
   "name": "python3"
  },
  "language_info": {
   "codemirror_mode": {
    "name": "ipython",
    "version": 3
   },
   "file_extension": ".py",
   "mimetype": "text/x-python",
   "name": "python",
   "nbconvert_exporter": "python",
   "pygments_lexer": "ipython3",
   "version": "3.7.7"
  }
 },
 "nbformat": 4,
 "nbformat_minor": 4
}
